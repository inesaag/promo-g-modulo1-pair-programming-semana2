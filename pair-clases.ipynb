{
 "cells": [
  {
   "cell_type": "code",
   "execution_count": 1,
   "metadata": {},
   "outputs": [
    {
     "data": {
      "text/plain": [
       "2"
      ]
     },
     "execution_count": 1,
     "metadata": {},
     "output_type": "execute_result"
    }
   ],
   "source": [
    "from datetime import datetime\n",
    "\n",
    "fecha_actual = datetime.now()\n",
    "fecha_actual.year\n",
    "fecha_actual.month"
   ]
  },
  {
   "cell_type": "code",
   "execution_count": 2,
   "metadata": {},
   "outputs": [],
   "source": [
    "class Empleados:\n",
    "\n",
    "    def __init__ (self, nombre, apellidos, edad, posicion, año, mes, vacaciones, salario, herramientas=[]): #hemos añadido el mes y el salario porque más adelante los necesitamos en otros métodos en los que nos dice que no añadamos nuevos parámetros.\n",
    "        self.nombre = nombre\n",
    "        self.apellidos = apellidos\n",
    "        self.edad = edad\n",
    "        self.año = año\n",
    "        self.mes = mes\n",
    "        self.posicion = posicion\n",
    "        self.vacaciones = vacaciones\n",
    "        self.salario = salario\n",
    "        self.herramientas = herramientas\n",
    "\n",
    "    def descripcion(self):\n",
    "        return f\"El nombre de la empleada es {self.nombre} {self.apellidos}, la posicion {self.posicion}, entró en {self.año} y le quedan {self.vacaciones} dias\"\n",
    "    \n",
    "    def cambiando_posicion(self):\n",
    "        for elemento in self.herramientas:\n",
    "            if \"python\" == elemento.lower():\n",
    "                return f\"muy bien\"\n",
    "            elif \"excel\" == elemento.lower():\n",
    "                return f\"aprende Python\"\n",
    "\n",
    "\n",
    "    def calcular_antiguedad(self):\n",
    "        fecha_actual = datetime.now()\n",
    "        años_antiguedad = fecha_actual.year - self.año\n",
    "        mes_antiguedad = fecha_actual.month - self.mes\n",
    "        return f\"{self.nombre} lleva {años_antiguedad} años y {mes_antiguedad} meses en la empresa\"\n",
    "    \n",
    "    def solicitar_aumento_vacaciones(self,dias_solicitados):\n",
    "        self.dias_solicitados = dias_solicitados\n",
    "\n",
    "        if self.dias_solicitados > 0:\n",
    "            self.vacaciones = self.vacaciones + self.dias_solicitados\n",
    "            return f\"La solicitud ha sido aprobada. Los días de vacaciones pasan a ser: {self.vacaciones}\"\n",
    "        \n",
    "        else:\n",
    "            print(f\"No es posible solicitar {dias_solicitados} días, debe ser un número positivo y mayor a cero\")\n",
    "\n",
    "    def registrar_herramienta(self, nueva_herramienta):\n",
    "        self.nueva_herramienta = nueva_herramienta\n",
    "\n",
    "        for herramienta in self.herramientas:\n",
    "            if herramienta == self.nueva_herramienta:\n",
    "                print(f\"{herramienta} ya se había añadido previamente a la lista de herramientas\")\n",
    "                break\n",
    "        else:\n",
    "            self.herramientas.append(self.nueva_herramienta)\n",
    "            print (f\"{self.nueva_herramienta} ha sido añadida a la lista de herramientas\")\n",
    "\n",
    "    def tomar_vacaciones(self):\n",
    "        dias = int(input(\"¿Cuántos días de vacaciones quieres tomar?\"))\n",
    "        \n",
    "        while dias <= 0:\n",
    "            print(f\"{dias} no es una cantidad válida de días a solicitar, por favor, ingresa un número positivo y mayor a 0\")\n",
    "            dias = int(input(\"¿Cuántos días de vacaciones quieres tomar?\"))\n",
    "        \n",
    "        if dias <= self.vacaciones:\n",
    "            self.vacaciones = self.vacaciones - dias\n",
    "            print(f\"te quedan {self.vacaciones} días de vacaciones disponibles\")\n",
    "        else:\n",
    "            print(f\"no tienes suficientes días de vacaciones disponibles. Actualmente cuentas con {self.vacaciones} días.\")\n",
    "\n",
    "    def solicitar_aumento_salario(self):\n",
    "        try:\n",
    "            aumento = float(input(\"¿Qué porcentaje de aumento quieres solicitar?\"))\n",
    "            while aumento <= 0:\n",
    "                print(f\"{aumento} no es una cantidad válida para un aumento de sueldo, por favor, ingresa un número positivo y mayor a 0\")\n",
    "                aumento = float(input(\"¿Qué porcentaje de aumento quieres solicitar?\"))\n",
    "    \n",
    "            self.salario = self.salario + (self.salario * aumento / 100)\n",
    "            print(f\"Se ha registrado el nuevo salario correctamente, el salario actual es {self.salario}€\")\n",
    "            #ECHARLE UN OJO A ESTO, NO FUNCIONA EL EXCEPT\n",
    "        except:\n",
    "            print(f\"{aumento} no es una respuesta válida\")\n",
    "\n",
    "    def realizar_evaluacion(self):\n",
    "        opciones_calificacion = [\"excelente\", \"bueno\", \"regular\", \"malo\"]\n",
    "        calificacion = input(\"Ingresa la calificación de desempeño del empleado\")\n",
    "\n",
    "        while calificacion not in opciones_calificacion: \n",
    "            print(f\"la calificación ingresada no es válida, debes elegir una de las siguientes: {opciones_calificacion}\")\n",
    "            calificacion = input(\"Ingresa la calificación de desempeño del empleado\")\n",
    "\n",
    "        print(f\"La calificación ha sido registrada correctamente\")\n",
    "        return calificacion \n",
    "\n",
    "            #NO ENTENDEMOS ESTA TAREA: Generar un Mensaje de Retroalimentación: Crear un mensaje que proporcione retroalimentación al empleado basada en la calificación ingresada.\n"
   ]
  },
  {
   "cell_type": "code",
   "execution_count": 3,
   "metadata": {},
   "outputs": [],
   "source": [
    "empleado = Empleados(\"maria\", \"gomez\", 35, \"tecnico\", 2020, 1, 20, 1800, [\"Python\", \"Word\"])"
   ]
  },
  {
   "cell_type": "code",
   "execution_count": 4,
   "metadata": {},
   "outputs": [
    {
     "name": "stdout",
     "output_type": "stream",
     "text": [
      "La calificación ha sido registrada correctamente\n"
     ]
    },
    {
     "data": {
      "text/plain": [
       "'bueno'"
      ]
     },
     "execution_count": 4,
     "metadata": {},
     "output_type": "execute_result"
    }
   ],
   "source": [
    "empleado.realizar_evaluacion()"
   ]
  },
  {
   "cell_type": "code",
   "execution_count": 5,
   "metadata": {},
   "outputs": [
    {
     "name": "stdout",
     "output_type": "stream",
     "text": [
      "Se ha registrado el nuevo salario correctamente, el salario actual es 2160.0€\n"
     ]
    }
   ],
   "source": [
    "empleado.solicitar_aumento_salario()"
   ]
  },
  {
   "cell_type": "code",
   "execution_count": 6,
   "metadata": {},
   "outputs": [
    {
     "name": "stdout",
     "output_type": "stream",
     "text": [
      "te quedan 15 días de vacaciones disponibles\n"
     ]
    }
   ],
   "source": [
    "empleado.tomar_vacaciones()\n"
   ]
  },
  {
   "cell_type": "code",
   "execution_count": 7,
   "metadata": {},
   "outputs": [
    {
     "data": {
      "text/plain": [
       "['Python', 'Word']"
      ]
     },
     "execution_count": 7,
     "metadata": {},
     "output_type": "execute_result"
    }
   ],
   "source": [
    "empleado.herramientas"
   ]
  },
  {
   "cell_type": "code",
   "execution_count": 8,
   "metadata": {},
   "outputs": [
    {
     "name": "stdout",
     "output_type": "stream",
     "text": [
      "excel ha sido añadida a la lista de herramientas\n"
     ]
    }
   ],
   "source": [
    "empleado.registrar_herramienta(\"excel\")"
   ]
  },
  {
   "cell_type": "code",
   "execution_count": 9,
   "metadata": {},
   "outputs": [
    {
     "data": {
      "text/plain": [
       "'La solicitud ha sido aprobada. Los días de vacaciones pasan a ser: 21'"
      ]
     },
     "execution_count": 9,
     "metadata": {},
     "output_type": "execute_result"
    }
   ],
   "source": [
    "empleado.solicitar_aumento_vacaciones(6)"
   ]
  },
  {
   "cell_type": "code",
   "execution_count": 10,
   "metadata": {},
   "outputs": [
    {
     "data": {
      "text/plain": [
       "'El nombre de la empleada es maria gomez, la posicion tecnico, entró en 2020 y le quedan 21 dias'"
      ]
     },
     "execution_count": 10,
     "metadata": {},
     "output_type": "execute_result"
    }
   ],
   "source": [
    "empleado.descripcion()"
   ]
  },
  {
   "cell_type": "code",
   "execution_count": 11,
   "metadata": {},
   "outputs": [
    {
     "data": {
      "text/plain": [
       "'muy bien'"
      ]
     },
     "execution_count": 11,
     "metadata": {},
     "output_type": "execute_result"
    }
   ],
   "source": [
    "empleado.cambiando_posicion()"
   ]
  },
  {
   "cell_type": "code",
   "execution_count": 12,
   "metadata": {},
   "outputs": [
    {
     "data": {
      "text/plain": [
       "'maria lleva 4 años y 1 meses en la empresa'"
      ]
     },
     "execution_count": 12,
     "metadata": {},
     "output_type": "execute_result"
    }
   ],
   "source": [
    "empleado.calcular_antiguedad()"
   ]
  },
  {
   "cell_type": "code",
   "execution_count": 49,
   "metadata": {},
   "outputs": [],
   "source": [
    "class Gerente(Empleados):\n",
    "    \n",
    "    def __init__(self, nombre, apellidos, edad, posicion, año, mes, vacaciones, herramientas, departamento, empleados_a_cargo):\n",
    "        super().__init__(nombre, apellidos, edad, posicion, año, mes, vacaciones, herramientas)\n",
    "        \n",
    "        self.departamento = departamento\n",
    "        self.empleados_a_cargo = empleados_a_cargo\n",
    "\n",
    "    def asignar_tareas(self, tarea, empleado):\n",
    "        self.tarea = tarea\n",
    "        self.empleado = empleado\n",
    "\n",
    "        print(f\"{self.nombre} ha asignado la tarea {self.tarea} a {self.empleado}\")\n",
    "\n",
    "\n",
    "    def revisar_desenpeno_empleado(self, empleado):\n",
    "        self.empleado = empleado\n",
    "\n",
    "        print(f\"{self.nombre} está revisando el desempeño de {self.empleado}\")\n",
    "    \n",
    "    \n",
    "    def gestionar_empleados (self, accion, empleado):\n",
    "        self.accion = accion\n",
    "        self.empleado = empleado\n",
    "\n",
    "        if self.accion == \"contratar\":\n",
    "            self.empleados_a_cargo.append(self.empleado)\n",
    "            print(f\"{self.empleado} ha sido contratado por {self.nombre}\")\n",
    "\n",
    "        elif self.accion == \"despedir\":\n",
    "            if self.empleado in self.empleados_a_cargo:\n",
    "                indice = self.empleados_a_cargo.index(self.empleado)\n",
    "                self.empleados_a_cargo.pop(indice)\n",
    "                print(f\"{self.empleado} ha sido despedido\")\n",
    "            else:\n",
    "               print(f\"{self.empleado} no está en la lista de empleados a cargo de {self.nombre}\") \n",
    "\n",
    "        else:\n",
    "            print(f\"Error. Introduce una acción válida\")"
   ]
  },
  {
   "cell_type": "code",
   "execution_count": 51,
   "metadata": {},
   "outputs": [],
   "source": [
    "gerente1 = Gerente(\"nombre_gerente\", \"apellido_gerente\", 42, \"gerente\", 2019, 3, 15, [], \"ventas\", [\"empleado1\", \"empleado2\"])"
   ]
  },
  {
   "cell_type": "code",
   "execution_count": 29,
   "metadata": {},
   "outputs": [
    {
     "name": "stdout",
     "output_type": "stream",
     "text": [
      "nombre_gerente ha asignado la tarea revisar BBDD a empleado1\n"
     ]
    }
   ],
   "source": [
    "gerente1.asignar_tareas(\"revisar BBDD\", \"empleado1\")"
   ]
  },
  {
   "cell_type": "code",
   "execution_count": 34,
   "metadata": {},
   "outputs": [
    {
     "name": "stdout",
     "output_type": "stream",
     "text": [
      "nombre_gerente está revisando el desempeño de nombre_empleado\n"
     ]
    }
   ],
   "source": [
    "gerente1.revisar_desenpeno_empleado(\"nombre_empleado\")"
   ]
  },
  {
   "cell_type": "code",
   "execution_count": 57,
   "metadata": {},
   "outputs": [
    {
     "name": "stdout",
     "output_type": "stream",
     "text": [
      "Error. Introduce una acción válida\n"
     ]
    }
   ],
   "source": [
    "gerente1.gestionar_empleados(\"despedggir\", \"empleado8\")"
   ]
  }
 ],
 "metadata": {
  "kernelspec": {
   "display_name": "base",
   "language": "python",
   "name": "python3"
  },
  "language_info": {
   "codemirror_mode": {
    "name": "ipython",
    "version": 3
   },
   "file_extension": ".py",
   "mimetype": "text/x-python",
   "name": "python",
   "nbconvert_exporter": "python",
   "pygments_lexer": "ipython3",
   "version": "3.11.5"
  }
 },
 "nbformat": 4,
 "nbformat_minor": 2
}
