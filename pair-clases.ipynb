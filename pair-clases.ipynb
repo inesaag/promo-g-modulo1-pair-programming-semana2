{
 "cells": [
  {
   "cell_type": "code",
   "execution_count": 1,
   "metadata": {},
   "outputs": [
    {
     "data": {
      "text/plain": [
       "2"
      ]
     },
     "execution_count": 1,
     "metadata": {},
     "output_type": "execute_result"
    }
   ],
   "source": [
    "from datetime import datetime\n",
    "\n",
    "fecha_actual = datetime.now()\n",
    "fecha_actual.year\n",
    "fecha_actual.month"
   ]
  },
  {
   "cell_type": "code",
   "execution_count": 1,
   "metadata": {},
   "outputs": [],
   "source": [
    "class Empleados:\n",
    "\n",
    "    def __init__ (self, nombre, apellidos, edad, posicion, año, mes, vacaciones, herramientas=[]):\n",
    "        self.nombre = nombre\n",
    "        self.apellidos = apellidos\n",
    "        self.edad = edad\n",
    "        self.año = año\n",
    "        self.mes = mes\n",
    "        self.posicion = posicion\n",
    "        self.vacaciones = vacaciones\n",
    "        self.herramientas = herramientas\n",
    "\n",
    "    def descripcion(self):\n",
    "        return f\"El nombre de la empleada es {self.nombre} {self.apellidos}, la posicion {self.posicion}, entró en {self.año} y le quedan {self.vacaciones} dias\"\n",
    "    \n",
    "    def cambiando_posicion(self):\n",
    "        for elemento in self.herramientas:\n",
    "            if \"python\" == elemento.lower():\n",
    "                return f\"muy bien\"\n",
    "            elif \"excel\" == elemento.lower():\n",
    "                return f\"aprende Python\"\n",
    "\n",
    "\n",
    "    def calcular_antiguedad(self):\n",
    "        fecha_actual = datetime.now()\n",
    "        años_antiguedad = fecha_actual.year - self.año\n",
    "        mes_antiguedad = fecha_actual.month - self.mes\n",
    "        return f\"{self.nombre} lleva {años_antiguedad} años y {mes_antiguedad} meses en la empresa\"\n",
    "      \n"
   ]
  },
  {
   "cell_type": "code",
   "execution_count": 7,
   "metadata": {},
   "outputs": [],
   "source": [
    "empleado = Empleados(\"maria\", \"gomez\", 35, \"tecnico\", 2020, 1, 20, [\"Python\", \"Word\"])"
   ]
  },
  {
   "cell_type": "code",
   "execution_count": 4,
   "metadata": {},
   "outputs": [
    {
     "data": {
      "text/plain": [
       "'El nombre de la empleada es maria gomez, la posicion tecnico, entró en 2020 y le quedan 20 dias'"
      ]
     },
     "execution_count": 4,
     "metadata": {},
     "output_type": "execute_result"
    }
   ],
   "source": [
    "empleado.descripcion()"
   ]
  },
  {
   "cell_type": "code",
   "execution_count": 5,
   "metadata": {},
   "outputs": [
    {
     "data": {
      "text/plain": [
       "'muy bien'"
      ]
     },
     "execution_count": 5,
     "metadata": {},
     "output_type": "execute_result"
    }
   ],
   "source": [
    "empleado.cambiando_posicion()"
   ]
  },
  {
   "cell_type": "code",
   "execution_count": 8,
   "metadata": {},
   "outputs": [
    {
     "data": {
      "text/plain": [
       "'maria lleva 4 años y 1 meses en la empresa '"
      ]
     },
     "execution_count": 8,
     "metadata": {},
     "output_type": "execute_result"
    }
   ],
   "source": [
    "empleado.calcular_antiguedad()"
   ]
  },
  {
   "cell_type": "code",
   "execution_count": 3,
   "metadata": {},
   "outputs": [],
   "source": [
    "class Gerente(Empleados):\n",
    "    def __init__(self, nombre, apellidos, edad, posicion, año, mes, vacaciones, herramientas, departamento, empleados_a_cargo=[]):\n",
    "        super().__init_(nombre, apellidos, edad, posicion, año, mes, vacaciones, herramientas)\n",
    "        self.departamento = departamento\n",
    "        self.empleados_a_cargo = empleados_a_cargo"
   ]
  }
 ],
 "metadata": {
  "kernelspec": {
   "display_name": "base",
   "language": "python",
   "name": "python3"
  },
  "language_info": {
   "codemirror_mode": {
    "name": "ipython",
    "version": 3
   },
   "file_extension": ".py",
   "mimetype": "text/x-python",
   "name": "python",
   "nbconvert_exporter": "python",
   "pygments_lexer": "ipython3",
   "version": "3.11.5"
  }
 },
 "nbformat": 4,
 "nbformat_minor": 2
}
