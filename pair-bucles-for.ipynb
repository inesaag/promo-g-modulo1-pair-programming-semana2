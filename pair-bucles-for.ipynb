{
 "cells": [
  {
   "cell_type": "code",
   "execution_count": 1,
   "metadata": {},
   "outputs": [
    {
     "name": "stdout",
     "output_type": "stream",
     "text": [
      "1\n",
      "2\n",
      "3\n",
      "4\n",
      "5\n"
     ]
    }
   ],
   "source": [
    "#1.Imprimir los números del 1 al 5 utilizando un bucle for\n",
    "\n",
    "for i in range(1,6):\n",
    "    print(i)"
   ]
  },
  {
   "cell_type": "code",
   "execution_count": 2,
   "metadata": {},
   "outputs": [
    {
     "data": {
      "text/plain": [
       "55"
      ]
     },
     "execution_count": 2,
     "metadata": {},
     "output_type": "execute_result"
    }
   ],
   "source": [
    "#2.Calcular la suma de los primeros 10 números naturales utilizando un bucle for\n",
    "\n",
    "numeros = []\n",
    "\n",
    "for num in range(1,11):\n",
    "    numeros.append(num)\n",
    "\n",
    "sum(numeros)"
   ]
  },
  {
   "cell_type": "code",
   "execution_count": 3,
   "metadata": {},
   "outputs": [
    {
     "data": {
      "text/plain": [
       "105"
      ]
     },
     "execution_count": 3,
     "metadata": {},
     "output_type": "execute_result"
    }
   ],
   "source": [
    "# 3. Calcular el producto de los elementos de una lista\n",
    "\n",
    "lista = [1,5,7,3]\n",
    "producto=1\n",
    "\n",
    "for num in lista:\n",
    "    producto *= num\n",
    "\n",
    "producto"
   ]
  },
  {
   "cell_type": "code",
   "execution_count": 4,
   "metadata": {},
   "outputs": [
    {
     "name": "stdout",
     "output_type": "stream",
     "text": [
      "h\n",
      "o\n",
      "l\n",
      "a\n"
     ]
    }
   ],
   "source": [
    "#4. Imprimir los caracteres de una cadena de texto\n",
    "cadena = \"hola\"\n",
    "\n",
    "for letra in cadena:\n",
    "    print(letra)"
   ]
  },
  {
   "cell_type": "code",
   "execution_count": 5,
   "metadata": {},
   "outputs": [
    {
     "name": "stdout",
     "output_type": "stream",
     "text": [
      "2\n",
      "4\n",
      "6\n",
      "8\n",
      "10\n",
      "12\n",
      "14\n",
      "16\n",
      "18\n",
      "20\n",
      "22\n",
      "24\n",
      "26\n",
      "28\n",
      "30\n",
      "32\n",
      "34\n",
      "36\n",
      "38\n",
      "40\n",
      "42\n",
      "44\n",
      "46\n",
      "48\n",
      "50\n",
      "52\n",
      "54\n",
      "56\n",
      "58\n",
      "60\n",
      "62\n",
      "64\n",
      "66\n",
      "68\n",
      "70\n",
      "72\n",
      "74\n",
      "76\n",
      "78\n",
      "80\n",
      "82\n",
      "84\n",
      "86\n",
      "88\n",
      "90\n",
      "92\n",
      "94\n",
      "96\n",
      "98\n",
      "100\n"
     ]
    }
   ],
   "source": [
    "# 5. Imprimir los números pares del 1 al 100 utilizando un bucle for\n",
    "\n",
    "for num in range(1,101):\n",
    "    if num % 2 == 0:\n",
    "        print(num)"
   ]
  },
  {
   "cell_type": "code",
   "execution_count": 2,
   "metadata": {},
   "outputs": [
    {
     "data": {
      "text/plain": [
       "[2, 3, 5, 7, 11, 13, 17, 19, 23, 29, 31, 37, 41, 43, 47]"
      ]
     },
     "execution_count": 2,
     "metadata": {},
     "output_type": "execute_result"
    }
   ],
   "source": [
    "# 6.Imprimir los números primos del 1 al 50 utilizando un bucle for # ENTERARNOS DE NUMEROS PRIMOS\n",
    "\n",
    "lista_primos = []\n",
    "\n",
    "\n",
    "for num in range(1,51):     \n",
    "    if num >1:\n",
    "        primo = True\n",
    "        for num2 in range(2,num):\n",
    "            if num % num2 == 0:\n",
    "                primo = False\n",
    "                break\n",
    "        if primo:\n",
    "            lista_primos.append(num\n",
    "                                )\n",
    "    \n",
    "lista_primos"
   ]
  },
  {
   "cell_type": "code",
   "execution_count": 21,
   "metadata": {},
   "outputs": [
    {
     "name": "stdout",
     "output_type": "stream",
     "text": [
      "[1, 2, 3, 4, 5]\n",
      "[5, 4, 3, 2, 1]\n"
     ]
    }
   ],
   "source": [
    "# 7. Calcular el factorial de un número utilizando un bucle for\n",
    "\n",
    "numero = 5\n",
    "lista = []\n",
    "for num in range(1,numero+1):\n",
    "    lista.append(num)\n",
    "\n",
    "print(lista)\n",
    "\n",
    "lista.reverse()\n",
    "print(lista)"
   ]
  },
  {
   "cell_type": "code",
   "execution_count": 22,
   "metadata": {},
   "outputs": [
    {
     "name": "stdout",
     "output_type": "stream",
     "text": [
      "[5, 4, 3, 2, 1]\n"
     ]
    },
    {
     "data": {
      "text/plain": [
       "120"
      ]
     },
     "execution_count": 22,
     "metadata": {},
     "output_type": "execute_result"
    }
   ],
   "source": [
    "print(lista)\n",
    "producto=1\n",
    "\n",
    "for num in lista:\n",
    "    producto *= num\n",
    "\n",
    "producto"
   ]
  },
  {
   "cell_type": "code",
   "execution_count": 2,
   "metadata": {},
   "outputs": [
    {
     "name": "stdout",
     "output_type": "stream",
     "text": [
      "error, te doy una pista\n",
      "la palabra en la que estoy pensando tiene más letras que palabra_usuario\n",
      "error, te doy una pista\n",
      "la palabra en la que estoy pensando tiene menos letras que palabra_usuario\n",
      "¡Has acertado!\n"
     ]
    }
   ],
   "source": [
    "# 8.Juego de adivinar palabras utilizando un bucle for\n",
    "\n",
    "palabra = \"ordenador\"\n",
    "\n",
    "oportunidades = [1,2,3,4,5]\n",
    "\n",
    "for intento in oportunidades: \n",
    "    palabra_usuario = input(\"¿En qué palabra estoy pensado?\").lower()\n",
    "    if palabra == palabra_usuario:\n",
    "        print(f\"¡Has acertado!\")\n",
    "        break\n",
    "    else:\n",
    "        print(f\"error, te doy una pista\")\n",
    "        if len(palabra) > len(palabra_usuario):\n",
    "            print(f\"la palabra en la que estoy pensando tiene más letras que {palabra_usuario}\")\n",
    "        elif len(palabra) == len(palabra_usuario):\n",
    "            print(\"la palabra en la que estoy pensando tiene la misma cantidad de letras que {palabra_usuario}\")\n",
    "        else:\n",
    "            print(\"la palabra en la que estoy pensando tiene menos letras que {palabra_usuario}\")\n",
    "\n",
    "\n",
    "\n"
   ]
  },
  {
   "cell_type": "code",
   "execution_count": 43,
   "metadata": {},
   "outputs": [
    {
     "name": "stdout",
     "output_type": "stream",
     "text": [
      "amaia está en la lista de nombres\n"
     ]
    }
   ],
   "source": [
    "# TRY..EXCEPT\n",
    "#1Realizar una búsqueda en una lista y capturar una excepción en caso de valor no encontrado.\n",
    "\n",
    "nombres = input(\"ingresa una lista de nombres separados por comas\").lower()\n",
    "\n",
    "lista_nombres = nombres.split(\", \")\n",
    "lista_nombres\n",
    "\n",
    "nombre = input(\"ingresa un nombre\").lower()\n",
    "\n",
    "try:\n",
    "    nombre in nombres == True\n",
    "    print(nombre, \"está en la lista de nombres\")\n",
    "\n",
    "except:\n",
    "    print(nombre, \"no está en la lista de nombres\")"
   ]
  }
 ],
 "metadata": {
  "kernelspec": {
   "display_name": "base",
   "language": "python",
   "name": "python3"
  },
  "language_info": {
   "codemirror_mode": {
    "name": "ipython",
    "version": 3
   },
   "file_extension": ".py",
   "mimetype": "text/x-python",
   "name": "python",
   "nbconvert_exporter": "python",
   "pygments_lexer": "ipython3",
   "version": "3.11.5"
  }
 },
 "nbformat": 4,
 "nbformat_minor": 2
}
